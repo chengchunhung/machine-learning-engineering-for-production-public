{
  "cells": [
    {
      "cell_type": "markdown",
      "metadata": {
        "id": "view-in-github",
        "colab_type": "text"
      },
      "source": [
        "<a href=\"https://colab.research.google.com/github/chengchunhung/machine-learning-engineering-for-production-public/blob/main/2d_classification/mednist_tutorial.ipynb\" target=\"_parent\"><img src=\"https://colab.research.google.com/assets/colab-badge.svg\" alt=\"Open In Colab\"/></a>"
      ]
    },
    {
      "cell_type": "markdown",
      "metadata": {
        "id": "D4ipeFhin8wN"
      },
      "source": [
        "# Medical Image Classification Tutorial with the MedNIST Dataset\n",
        "\n",
        "In this tutorial, we introduce an end-to-end training and evaluation example based on the MedNIST dataset.\n",
        "\n",
        "We'll go through the following steps:\n",
        "* Create a dataset for training and testing\n",
        "* Use MONAI transforms to pre-process data\n",
        "* Use the DenseNet from MONAI for classification\n",
        "* Train the model with a PyTorch program\n",
        "* Evaluate on test dataset\n",
        "\n",
        "[![Open In Colab](https://colab.research.google.com/assets/colab-badge.svg)](https://colab.research.google.com/github/Project-MONAI/tutorials/blob/master/2d_classification/mednist_tutorial.ipynb)"
      ]
    },
    {
      "cell_type": "markdown",
      "metadata": {
        "id": "Nqjz7DNPn8wT"
      },
      "source": [
        "## Setup environment"
      ]
    },
    {
      "cell_type": "code",
      "execution_count": 1,
      "metadata": {
        "colab": {
          "base_uri": "https://localhost:8080/"
        },
        "id": "i-IBfvzTn8wU",
        "outputId": "65c5ad18-1da6-41ba-8313-1350925ddb07"
      },
      "outputs": [
        {
          "output_type": "stream",
          "name": "stdout",
          "text": [
            "Traceback (most recent call last):\n",
            "  File \"<string>\", line 1, in <module>\n",
            "ModuleNotFoundError: No module named 'monai'\n",
            "\u001b[K     |████████████████████████████████| 816 kB 4.1 MB/s \n",
            "\u001b[?25h"
          ]
        }
      ],
      "source": [
        "!python -c \"import monai\" || pip install -q \"monai-weekly[pillow, tqdm]\"\n",
        "!python -c \"import matplotlib\" || pip install -q matplotlib\n",
        "%matplotlib inline"
      ]
    },
    {
      "cell_type": "markdown",
      "metadata": {
        "id": "fEhNk3_2n8wW"
      },
      "source": [
        "## Setup imports"
      ]
    },
    {
      "cell_type": "code",
      "execution_count": 3,
      "metadata": {
        "tags": [],
        "colab": {
          "base_uri": "https://localhost:8080/"
        },
        "id": "l5EvIuBNn8wW",
        "outputId": "14abec42-94ef-4b35-c4f5-ded3502098f2"
      },
      "outputs": [
        {
          "output_type": "stream",
          "name": "stdout",
          "text": [
            "MONAI version: 0.9.dev2219\n",
            "Numpy version: 1.21.6\n",
            "Pytorch version: 1.11.0+cu113\n",
            "MONAI flags: HAS_EXT = False, USE_COMPILED = False\n",
            "MONAI rev id: c79f0d7e3254a3ea98a5e4cbebf1897f8b0f8069\n",
            "MONAI __file__: /usr/local/lib/python3.7/dist-packages/monai/__init__.py\n",
            "\n",
            "Optional dependencies:\n",
            "Pytorch Ignite version: NOT INSTALLED or UNKNOWN VERSION.\n",
            "Nibabel version: 3.0.2\n",
            "scikit-image version: 0.18.3\n",
            "Pillow version: 7.1.2\n",
            "Tensorboard version: 2.8.0\n",
            "gdown version: 4.4.0\n",
            "TorchVision version: 0.12.0+cu113\n",
            "tqdm version: 4.64.0\n",
            "lmdb version: 0.99\n",
            "psutil version: 5.4.8\n",
            "pandas version: 1.3.5\n",
            "einops version: NOT INSTALLED or UNKNOWN VERSION.\n",
            "transformers version: NOT INSTALLED or UNKNOWN VERSION.\n",
            "mlflow version: NOT INSTALLED or UNKNOWN VERSION.\n",
            "\n",
            "For details about installing the optional dependencies, please visit:\n",
            "    https://docs.monai.io/en/latest/installation.html#installing-the-recommended-dependencies\n",
            "\n"
          ]
        }
      ],
      "source": [
        "# Copyright 2020 MONAI Consortium\n",
        "# Licensed under the Apache License, Version 2.0 (the \"License\");\n",
        "# you may not use this file except in compliance with the License.\n",
        "# You may obtain a copy of the License at\n",
        "#     http://www.apache.org/licenses/LICENSE-2.0\n",
        "# Unless required by applicable law or agreed to in writing, software\n",
        "# distributed under the License is distributed on an \"AS IS\" BASIS,\n",
        "# WITHOUT WARRANTIES OR CONDITIONS OF ANY KIND, either express or implied.\n",
        "# See the License for the specific language governing permissions and\n",
        "# limitations under the License.\n",
        "\n",
        "import os\n",
        "import shutil\n",
        "import tempfile\n",
        "import matplotlib.pyplot as plt\n",
        "import PIL\n",
        "import torch\n",
        "import numpy as np\n",
        "from sklearn.metrics import classification_report\n",
        "\n",
        "from monai.apps import download_and_extract\n",
        "from monai.config import print_config\n",
        "from monai.data import decollate_batch\n",
        "from monai.metrics import ROCAUCMetric\n",
        "from monai.networks.nets import DenseNet121\n",
        "from monai.transforms import (\n",
        "    Activations,\n",
        "    AddChannel,\n",
        "    AsDiscrete,\n",
        "    Compose,\n",
        "    LoadImage,\n",
        "    RandFlip,\n",
        "    RandRotate,\n",
        "    RandZoom,\n",
        "    ScaleIntensity,\n",
        "    EnsureType,\n",
        ")\n",
        "from monai.utils import set_determinism\n",
        "\n",
        "print_config()"
      ]
    },
    {
      "cell_type": "markdown",
      "metadata": {
        "id": "KLpTzu7Ln8wa"
      },
      "source": [
        "## Setup data directory\n",
        "\n",
        "You can specify a directory with the `MONAI_DATA_DIRECTORY` environment variable.  \n",
        "This allows you to save results and reuse downloads.  \n",
        "If not specified a temporary directory will be used."
      ]
    },
    {
      "cell_type": "code",
      "execution_count": 4,
      "metadata": {
        "tags": [],
        "colab": {
          "base_uri": "https://localhost:8080/"
        },
        "id": "DpCE_ky-n8wb",
        "outputId": "073d565f-73a9-4d1b-ec33-d75cb9ccfc9b"
      },
      "outputs": [
        {
          "output_type": "stream",
          "name": "stdout",
          "text": [
            "/tmp/tmpbk99z2yc\n"
          ]
        }
      ],
      "source": [
        "directory = os.environ.get(\"MONAI_DATA_DIRECTORY\")\n",
        "root_dir = tempfile.mkdtemp() if directory is None else directory\n",
        "print(root_dir)"
      ]
    },
    {
      "cell_type": "markdown",
      "metadata": {
        "id": "dW3OhmDRn8wc"
      },
      "source": [
        "## Download dataset\n",
        "\n",
        "The MedNIST dataset was gathered from several sets from [TCIA](https://wiki.cancerimagingarchive.net/display/Public/Data+Usage+Policies+and+Restrictions),\n",
        "[the RSNA Bone Age Challenge](http://rsnachallenges.cloudapp.net/competitions/4),\n",
        "and [the NIH Chest X-ray dataset](https://cloud.google.com/healthcare/docs/resources/public-datasets/nih-chest).\n",
        "\n",
        "The dataset is kindly made available by [Dr. Bradley J. Erickson M.D., Ph.D.](https://www.mayo.edu/research/labs/radiology-informatics/overview) (Department of Radiology, Mayo Clinic)\n",
        "under the Creative Commons [CC BY-SA 4.0 license](https://creativecommons.org/licenses/by-sa/4.0/).\n",
        "\n",
        "If you use the MedNIST dataset, please acknowledge the source."
      ]
    },
    {
      "cell_type": "code",
      "execution_count": 5,
      "metadata": {
        "tags": [],
        "colab": {
          "base_uri": "https://localhost:8080/"
        },
        "id": "z8vlZ0tcn8wd",
        "outputId": "c94ac448-815e-4521-d087-77ce6b0a9369"
      },
      "outputs": [
        {
          "output_type": "stream",
          "name": "stderr",
          "text": [
            "MedNIST.tar.gz: 59.0MB [00:00, 103MB/s]                            "
          ]
        },
        {
          "output_type": "stream",
          "name": "stdout",
          "text": [
            "2022-05-11 10:28:39,520 - INFO - Downloaded: /tmp/tmpbk99z2yc/MedNIST.tar.gz\n"
          ]
        },
        {
          "output_type": "stream",
          "name": "stderr",
          "text": [
            "\n"
          ]
        },
        {
          "output_type": "stream",
          "name": "stdout",
          "text": [
            "2022-05-11 10:28:39,656 - INFO - Verified 'MedNIST.tar.gz', md5: 0bc7306e7427e00ad1c5526a6677552d.\n",
            "2022-05-11 10:28:39,658 - INFO - Writing into directory: /tmp/tmpbk99z2yc.\n"
          ]
        }
      ],
      "source": [
        "resource = \"https://github.com/Project-MONAI/MONAI-extra-test-data/releases/download/0.8.1/MedNIST.tar.gz\"\n",
        "md5 = \"0bc7306e7427e00ad1c5526a6677552d\"\n",
        "\n",
        "compressed_file = os.path.join(root_dir, \"MedNIST.tar.gz\")\n",
        "data_dir = os.path.join(root_dir, \"MedNIST\")\n",
        "if not os.path.exists(data_dir):\n",
        "    download_and_extract(resource, compressed_file, root_dir, md5)"
      ]
    },
    {
      "cell_type": "markdown",
      "metadata": {
        "id": "bqX1Uw7An8we"
      },
      "source": [
        "## Set deterministic training for reproducibility"
      ]
    },
    {
      "cell_type": "code",
      "execution_count": 6,
      "metadata": {
        "id": "2oh2zwM_n8wf"
      },
      "outputs": [],
      "source": [
        "set_determinism(seed=0)"
      ]
    },
    {
      "cell_type": "markdown",
      "metadata": {
        "id": "Sv93Flton8wg"
      },
      "source": [
        "## Read image filenames from the dataset folders\n",
        "\n",
        "First of all, check the dataset files and show some statistics.  \n",
        "There are 6 folders in the dataset: Hand, AbdomenCT, CXR, ChestCT, BreastMRI, HeadCT,  \n",
        "which should be used as the labels to train our classification model."
      ]
    },
    {
      "cell_type": "code",
      "execution_count": 7,
      "metadata": {
        "tags": [],
        "colab": {
          "base_uri": "https://localhost:8080/"
        },
        "id": "FXK8YVKfn8wh",
        "outputId": "dae32b39-59a4-4d78-b777-77b6bcd46ed5"
      },
      "outputs": [
        {
          "output_type": "stream",
          "name": "stdout",
          "text": [
            "Total image count: 58954\n",
            "Image dimensions: 64 x 64\n",
            "Label names: ['AbdomenCT', 'BreastMRI', 'CXR', 'ChestCT', 'Hand', 'HeadCT']\n",
            "Label counts: [10000, 8954, 10000, 10000, 10000, 10000]\n"
          ]
        }
      ],
      "source": [
        "class_names = sorted(x for x in os.listdir(data_dir)\n",
        "                     if os.path.isdir(os.path.join(data_dir, x)))\n",
        "num_class = len(class_names)\n",
        "image_files = [\n",
        "    [\n",
        "        os.path.join(data_dir, class_names[i], x)\n",
        "        for x in os.listdir(os.path.join(data_dir, class_names[i]))\n",
        "    ]\n",
        "    for i in range(num_class)\n",
        "]\n",
        "num_each = [len(image_files[i]) for i in range(num_class)]\n",
        "image_files_list = []\n",
        "image_class = []\n",
        "for i in range(num_class):\n",
        "    image_files_list.extend(image_files[i])\n",
        "    image_class.extend([i] * num_each[i])\n",
        "num_total = len(image_class)\n",
        "image_width, image_height = PIL.Image.open(image_files_list[0]).size\n",
        "\n",
        "print(f\"Total image count: {num_total}\")\n",
        "print(f\"Image dimensions: {image_width} x {image_height}\")\n",
        "print(f\"Label names: {class_names}\")\n",
        "print(f\"Label counts: {num_each}\")"
      ]
    },
    {
      "cell_type": "markdown",
      "metadata": {
        "id": "P4JpUVqBn8wi"
      },
      "source": [
        "## Randomly pick images from the dataset to visualize and check"
      ]
    },
    {
      "cell_type": "code",
      "execution_count": 8,
      "metadata": {
        "colab": {
          "base_uri": "https://localhost:8080/",
          "height": 585
        },
        "id": "9-DzWl0Zn8wj",
        "outputId": "d7b6b32b-a15c-4ed1-82d3-e7ffc87dd323"
      },
      "outputs": [
        {
          "output_type": "display_data",
          "data": {
            "text/plain": [
              "<Figure size 576x576 with 9 Axes>"
            ],
            "image/png": "[encoded data removed]"
          },
          "metadata": {
            "needs_background": "light"
          }
        }
      ],
      "source": [
        "plt.subplots(3, 3, figsize=(8, 8))\n",
        "for i, k in enumerate(np.random.randint(num_total, size=9)):\n",
        "    im = PIL.Image.open(image_files_list[k])\n",
        "    arr = np.array(im)\n",
        "    plt.subplot(3, 3, i + 1)\n",
        "    plt.xlabel(class_names[image_class[k]])\n",
        "    plt.imshow(arr, cmap=\"gray\", vmin=0, vmax=255)\n",
        "plt.tight_layout()\n",
        "plt.show()"
      ]
    },
    {
      "cell_type": "markdown",
      "metadata": {
        "id": "8SK6bbp3n8wk"
      },
      "source": [
        "## Prepare training, validation and test data lists\n",
        "\n",
        "Randomly select 10% of the dataset as validation and 10% as test."
      ]
    },
    {
      "cell_type": "code",
      "execution_count": 9,
      "metadata": {
        "tags": [],
        "colab": {
          "base_uri": "https://localhost:8080/"
        },
        "id": "5DxSpV69n8wk",
        "outputId": "47e0853c-1aa9-4046-dd24-2a9a926390d3"
      },
      "outputs": [
        {
          "output_type": "stream",
          "name": "stdout",
          "text": [
            "Training count: 47164, Validation count: 5895, Test count: 5895\n"
          ]
        }
      ],
      "source": [
        "val_frac = 0.1\n",
        "test_frac = 0.1\n",
        "length = len(image_files_list)\n",
        "indices = np.arange(length)\n",
        "np.random.shuffle(indices)\n",
        "\n",
        "test_split = int(test_frac * length)\n",
        "val_split = int(val_frac * length) + test_split\n",
        "test_indices = indices[:test_split]\n",
        "val_indices = indices[test_split:val_split]\n",
        "train_indices = indices[val_split:]\n",
        "\n",
        "train_x = [image_files_list[i] for i in train_indices]\n",
        "train_y = [image_class[i] for i in train_indices]\n",
        "val_x = [image_files_list[i] for i in val_indices]\n",
        "val_y = [image_class[i] for i in val_indices]\n",
        "test_x = [image_files_list[i] for i in test_indices]\n",
        "test_y = [image_class[i] for i in test_indices]\n",
        "\n",
        "print(\n",
        "    f\"Training count: {len(train_x)}, Validation count: \"\n",
        "    f\"{len(val_x)}, Test count: {len(test_x)}\")"
      ]
    },
    {
      "cell_type": "markdown",
      "metadata": {
        "id": "d3r8WN87n8wl"
      },
      "source": [
        "## Define MONAI transforms, Dataset and Dataloader to pre-process data"
      ]
    },
    {
      "cell_type": "code",
      "execution_count": 10,
      "metadata": {
        "id": "cuiCctx7n8wl"
      },
      "outputs": [],
      "source": [
        "train_transforms = Compose(\n",
        "    [\n",
        "        LoadImage(image_only=True),\n",
        "        AddChannel(),\n",
        "        ScaleIntensity(),\n",
        "        RandRotate(range_x=np.pi / 12, prob=0.5, keep_size=True),\n",
        "        RandFlip(spatial_axis=0, prob=0.5),\n",
        "        RandZoom(min_zoom=0.9, max_zoom=1.1, prob=0.5),\n",
        "        EnsureType(),\n",
        "    ]\n",
        ")\n",
        "\n",
        "val_transforms = Compose(\n",
        "    [LoadImage(image_only=True), AddChannel(), ScaleIntensity(), EnsureType()])\n",
        "\n",
        "y_pred_trans = Compose([EnsureType(), Activations(softmax=True)])\n",
        "y_trans = Compose([EnsureType(), AsDiscrete(to_onehot=num_class)])"
      ]
    },
    {
      "cell_type": "code",
      "execution_count": 11,
      "metadata": {
        "colab": {
          "base_uri": "https://localhost:8080/"
        },
        "id": "MiuY2xrjn8wm",
        "outputId": "4a66dbee-f686-40e2-e91c-76babcd4cea6"
      },
      "outputs": [
        {
          "output_type": "stream",
          "name": "stderr",
          "text": [
            "/usr/local/lib/python3.7/dist-packages/torch/utils/data/dataloader.py:490: UserWarning: This DataLoader will create 10 worker processes in total. Our suggested max number of worker in current system is 2, which is smaller than what this DataLoader is going to create. Please be aware that excessive worker creation might get DataLoader running slow or even freeze, lower the worker number to avoid potential slowness/freeze if necessary.\n",
            "  cpuset_checked))\n"
          ]
        }
      ],
      "source": [
        "class MedNISTDataset(torch.utils.data.Dataset):\n",
        "    def __init__(self, image_files, labels, transforms):\n",
        "        self.image_files = image_files\n",
        "        self.labels = labels\n",
        "        self.transforms = transforms\n",
        "\n",
        "    def __len__(self):\n",
        "        return len(self.image_files)\n",
        "\n",
        "    def __getitem__(self, index):\n",
        "        return self.transforms(self.image_files[index]), self.labels[index]\n",
        "\n",
        "\n",
        "train_ds = MedNISTDataset(train_x, train_y, train_transforms)\n",
        "train_loader = torch.utils.data.DataLoader(\n",
        "    train_ds, batch_size=300, shuffle=True, num_workers=10)\n",
        "\n",
        "val_ds = MedNISTDataset(val_x, val_y, val_transforms)\n",
        "val_loader = torch.utils.data.DataLoader(\n",
        "    val_ds, batch_size=300, num_workers=10)\n",
        "\n",
        "test_ds = MedNISTDataset(test_x, test_y, val_transforms)\n",
        "test_loader = torch.utils.data.DataLoader(\n",
        "    test_ds, batch_size=300, num_workers=10)"
      ]
    },
    {
      "cell_type": "markdown",
      "metadata": {
        "id": "UFspqLzNn8wn"
      },
      "source": [
        "## Define network and optimizer\n",
        "\n",
        "1. Set learning rate for how much the model is updated per batch.\n",
        "1. Set total epoch number, as we have shuffle and random transforms, so the training data of every epoch is different.  \n",
        "And as this is just a get start tutorial, let's just train 4 epochs.  \n",
        "If train 10 epochs, the model can achieve 100% accuracy on test dataset. \n",
        "1. Use DenseNet from MONAI and move to GPU devide, this DenseNet can support both 2D and 3D classification tasks.\n",
        "1. Use Adam optimizer."
      ]
    },
    {
      "cell_type": "code",
      "execution_count": 12,
      "metadata": {
        "id": "f0UDzF9rn8wn"
      },
      "outputs": [],
      "source": [
        "device = torch.device(\"cuda\" if torch.cuda.is_available() else \"cpu\")\n",
        "model = DenseNet121(spatial_dims=2, in_channels=1,\n",
        "                    out_channels=num_class).to(device)\n",
        "loss_function = torch.nn.CrossEntropyLoss()\n",
        "optimizer = torch.optim.Adam(model.parameters(), 1e-5)\n",
        "max_epochs = 4\n",
        "val_interval = 1\n",
        "auc_metric = ROCAUCMetric()"
      ]
    },
    {
      "cell_type": "markdown",
      "metadata": {
        "id": "RoCIWEIjn8wn"
      },
      "source": [
        "## Model training\n",
        "\n",
        "Execute a typical PyTorch training that run epoch loop and step loop, and do validation after every epoch.  \n",
        "Will save the model weights to file if got best validation accuracy."
      ]
    },
    {
      "cell_type": "code",
      "execution_count": 13,
      "metadata": {
        "tags": [],
        "colab": {
          "base_uri": "https://localhost:8080/"
        },
        "id": "BG5VWQUdn8wo",
        "outputId": "fd69cae6-8593-469d-f845-e2d676ee365c"
      },
      "outputs": [
        {
          "output_type": "stream",
          "name": "stdout",
          "text": [
            "----------\n",
            "epoch 1/4\n"
          ]
        },
        {
          "output_type": "stream",
          "name": "stderr",
          "text": [
            "/usr/local/lib/python3.7/dist-packages/torch/utils/data/dataloader.py:490: UserWarning: This DataLoader will create 10 worker processes in total. Our suggested max number of worker in current system is 2, which is smaller than what this DataLoader is going to create. Please be aware that excessive worker creation might get DataLoader running slow or even freeze, lower the worker number to avoid potential slowness/freeze if necessary.\n",
            "  cpuset_checked))\n"
          ]
        },
        {
          "output_type": "stream",
          "name": "stdout",
          "text": [
            "1/157, train_loss: 1.7795\n",
            "2/157, train_loss: 1.7467\n",
            "3/157, train_loss: 1.7419\n",
            "4/157, train_loss: 1.7076\n",
            "5/157, train_loss: 1.6681\n",
            "6/157, train_loss: 1.6607\n",
            "7/157, train_loss: 1.6341\n",
            "8/157, train_loss: 1.5846\n",
            "9/157, train_loss: 1.5793\n",
            "10/157, train_loss: 1.5582\n",
            "11/157, train_loss: 1.5216\n",
            "12/157, train_loss: 1.5110\n",
            "13/157, train_loss: 1.4815\n",
            "14/157, train_loss: 1.4687\n",
            "15/157, train_loss: 1.4318\n",
            "16/157, train_loss: 1.4558\n",
            "17/157, train_loss: 1.4086\n",
            "18/157, train_loss: 1.3776\n",
            "19/157, train_loss: 1.3834\n",
            "20/157, train_loss: 1.3584\n",
            "21/157, train_loss: 1.3234\n",
            "22/157, train_loss: 1.3131\n",
            "23/157, train_loss: 1.3136\n",
            "24/157, train_loss: 1.2862\n",
            "25/157, train_loss: 1.2638\n",
            "26/157, train_loss: 1.2336\n",
            "27/157, train_loss: 1.2407\n",
            "28/157, train_loss: 1.1922\n",
            "29/157, train_loss: 1.1393\n",
            "30/157, train_loss: 1.1820\n",
            "31/157, train_loss: 1.1237\n",
            "32/157, train_loss: 1.1363\n",
            "33/157, train_loss: 1.1248\n",
            "34/157, train_loss: 1.1292\n",
            "35/157, train_loss: 1.0972\n",
            "36/157, train_loss: 1.0857\n",
            "37/157, train_loss: 1.0250\n",
            "38/157, train_loss: 1.0269\n",
            "39/157, train_loss: 1.0110\n",
            "40/157, train_loss: 1.0001\n",
            "41/157, train_loss: 1.0294\n",
            "42/157, train_loss: 1.0131\n",
            "43/157, train_loss: 0.9617\n",
            "44/157, train_loss: 0.9923\n",
            "45/157, train_loss: 0.9300\n",
            "46/157, train_loss: 0.8944\n",
            "47/157, train_loss: 0.9301\n",
            "48/157, train_loss: 0.9116\n",
            "49/157, train_loss: 0.9057\n",
            "50/157, train_loss: 0.9022\n",
            "51/157, train_loss: 0.8561\n",
            "52/157, train_loss: 0.8588\n",
            "53/157, train_loss: 0.8564\n",
            "54/157, train_loss: 0.8307\n",
            "55/157, train_loss: 0.8277\n",
            "56/157, train_loss: 0.8171\n",
            "57/157, train_loss: 0.8754\n",
            "58/157, train_loss: 0.8011\n",
            "59/157, train_loss: 0.7970\n",
            "60/157, train_loss: 0.7812\n",
            "61/157, train_loss: 0.7713\n",
            "62/157, train_loss: 0.7334\n",
            "63/157, train_loss: 0.7426\n",
            "64/157, train_loss: 0.7328\n",
            "65/157, train_loss: 0.7098\n",
            "66/157, train_loss: 0.7347\n",
            "67/157, train_loss: 0.7325\n",
            "68/157, train_loss: 0.7064\n",
            "69/157, train_loss: 0.7252\n",
            "70/157, train_loss: 0.6654\n",
            "71/157, train_loss: 0.6896\n",
            "72/157, train_loss: 0.6318\n",
            "73/157, train_loss: 0.6480\n",
            "74/157, train_loss: 0.6180\n",
            "75/157, train_loss: 0.5949\n",
            "76/157, train_loss: 0.6292\n",
            "77/157, train_loss: 0.6039\n",
            "78/157, train_loss: 0.6144\n",
            "79/157, train_loss: 0.6304\n",
            "80/157, train_loss: 0.5874\n",
            "81/157, train_loss: 0.6007\n",
            "82/157, train_loss: 0.5640\n",
            "83/157, train_loss: 0.5573\n",
            "84/157, train_loss: 0.5090\n",
            "85/157, train_loss: 0.5598\n",
            "86/157, train_loss: 0.5253\n",
            "87/157, train_loss: 0.5291\n",
            "88/157, train_loss: 0.5123\n",
            "89/157, train_loss: 0.5517\n",
            "90/157, train_loss: 0.5144\n",
            "91/157, train_loss: 0.4971\n",
            "92/157, train_loss: 0.4979\n",
            "93/157, train_loss: 0.5102\n",
            "94/157, train_loss: 0.4416\n",
            "95/157, train_loss: 0.5120\n",
            "96/157, train_loss: 0.4589\n",
            "97/157, train_loss: 0.4733\n",
            "98/157, train_loss: 0.4498\n",
            "99/157, train_loss: 0.4681\n",
            "100/157, train_loss: 0.4415\n",
            "101/157, train_loss: 0.4374\n",
            "102/157, train_loss: 0.4425\n",
            "103/157, train_loss: 0.4062\n",
            "104/157, train_loss: 0.4446\n",
            "105/157, train_loss: 0.4393\n",
            "106/157, train_loss: 0.4287\n",
            "107/157, train_loss: 0.4415\n",
            "108/157, train_loss: 0.4168\n",
            "109/157, train_loss: 0.4091\n",
            "110/157, train_loss: 0.4401\n",
            "111/157, train_loss: 0.3955\n",
            "112/157, train_loss: 0.3751\n",
            "113/157, train_loss: 0.4137\n",
            "114/157, train_loss: 0.3938\n",
            "115/157, train_loss: 0.4027\n",
            "116/157, train_loss: 0.3430\n",
            "117/157, train_loss: 0.3745\n",
            "118/157, train_loss: 0.3688\n",
            "119/157, train_loss: 0.3394\n",
            "120/157, train_loss: 0.3539\n",
            "121/157, train_loss: 0.3463\n",
            "122/157, train_loss: 0.3185\n",
            "123/157, train_loss: 0.3633\n",
            "124/157, train_loss: 0.3378\n",
            "125/157, train_loss: 0.3394\n",
            "126/157, train_loss: 0.3351\n",
            "127/157, train_loss: 0.3217\n",
            "128/157, train_loss: 0.2992\n",
            "129/157, train_loss: 0.3220\n",
            "130/157, train_loss: 0.3194\n",
            "131/157, train_loss: 0.3250\n",
            "132/157, train_loss: 0.3100\n",
            "133/157, train_loss: 0.3196\n",
            "134/157, train_loss: 0.3186\n",
            "135/157, train_loss: 0.3406\n",
            "136/157, train_loss: 0.3157\n",
            "137/157, train_loss: 0.2912\n",
            "138/157, train_loss: 0.2878\n",
            "139/157, train_loss: 0.2906\n",
            "140/157, train_loss: 0.2981\n",
            "141/157, train_loss: 0.2813\n",
            "142/157, train_loss: 0.2683\n",
            "143/157, train_loss: 0.2828\n",
            "144/157, train_loss: 0.2815\n",
            "145/157, train_loss: 0.2537\n",
            "146/157, train_loss: 0.2595\n",
            "147/157, train_loss: 0.2940\n",
            "148/157, train_loss: 0.2683\n",
            "149/157, train_loss: 0.2852\n",
            "150/157, train_loss: 0.2869\n",
            "151/157, train_loss: 0.2475\n",
            "152/157, train_loss: 0.2680\n",
            "153/157, train_loss: 0.2535\n",
            "154/157, train_loss: 0.2687\n",
            "155/157, train_loss: 0.2707\n",
            "156/157, train_loss: 0.2472\n",
            "157/157, train_loss: 0.2378\n",
            "158/157, train_loss: 0.2868\n",
            "epoch 1 average loss: 0.7282\n",
            "saved new best metric model\n",
            "current epoch: 1 current AUC: 0.9977 current accuracy: 0.9644 best AUC: 0.9977 at epoch: 1\n",
            "----------\n",
            "epoch 2/4\n",
            "1/157, train_loss: 0.2470\n",
            "2/157, train_loss: 0.2324\n",
            "3/157, train_loss: 0.2463\n",
            "4/157, train_loss: 0.2368\n",
            "5/157, train_loss: 0.2213\n",
            "6/157, train_loss: 0.2151\n",
            "7/157, train_loss: 0.2407\n",
            "8/157, train_loss: 0.2426\n",
            "9/157, train_loss: 0.1892\n",
            "10/157, train_loss: 0.2054\n",
            "11/157, train_loss: 0.2224\n",
            "12/157, train_loss: 0.2458\n",
            "13/157, train_loss: 0.1977\n",
            "14/157, train_loss: 0.1951\n",
            "15/157, train_loss: 0.2184\n",
            "16/157, train_loss: 0.1948\n",
            "17/157, train_loss: 0.2054\n",
            "18/157, train_loss: 0.2034\n",
            "19/157, train_loss: 0.1919\n",
            "20/157, train_loss: 0.2070\n",
            "21/157, train_loss: 0.2326\n",
            "22/157, train_loss: 0.2418\n",
            "23/157, train_loss: 0.2409\n",
            "24/157, train_loss: 0.2195\n",
            "25/157, train_loss: 0.2043\n",
            "26/157, train_loss: 0.1914\n",
            "27/157, train_loss: 0.1934\n",
            "28/157, train_loss: 0.1822\n",
            "29/157, train_loss: 0.1845\n",
            "30/157, train_loss: 0.1859\n",
            "31/157, train_loss: 0.1707\n",
            "32/157, train_loss: 0.2147\n",
            "33/157, train_loss: 0.1818\n",
            "34/157, train_loss: 0.1797\n",
            "35/157, train_loss: 0.2125\n",
            "36/157, train_loss: 0.2511\n",
            "37/157, train_loss: 0.1617\n",
            "38/157, train_loss: 0.2019\n",
            "39/157, train_loss: 0.2056\n",
            "40/157, train_loss: 0.1797\n",
            "41/157, train_loss: 0.1811\n",
            "42/157, train_loss: 0.1650\n",
            "43/157, train_loss: 0.1724\n",
            "44/157, train_loss: 0.1803\n",
            "45/157, train_loss: 0.1481\n",
            "46/157, train_loss: 0.1572\n",
            "47/157, train_loss: 0.1615\n",
            "48/157, train_loss: 0.1715\n",
            "49/157, train_loss: 0.1618\n",
            "50/157, train_loss: 0.1698\n",
            "51/157, train_loss: 0.1403\n",
            "52/157, train_loss: 0.1675\n",
            "53/157, train_loss: 0.1537\n",
            "54/157, train_loss: 0.1541\n",
            "55/157, train_loss: 0.1337\n",
            "56/157, train_loss: 0.1581\n",
            "57/157, train_loss: 0.1383\n",
            "58/157, train_loss: 0.1626\n",
            "59/157, train_loss: 0.1468\n",
            "60/157, train_loss: 0.1570\n",
            "61/157, train_loss: 0.1482\n",
            "62/157, train_loss: 0.1606\n",
            "63/157, train_loss: 0.1349\n",
            "64/157, train_loss: 0.1404\n",
            "65/157, train_loss: 0.1274\n",
            "66/157, train_loss: 0.1270\n",
            "67/157, train_loss: 0.1589\n",
            "68/157, train_loss: 0.1556\n",
            "69/157, train_loss: 0.1251\n",
            "70/157, train_loss: 0.1439\n",
            "71/157, train_loss: 0.1272\n",
            "72/157, train_loss: 0.1646\n",
            "73/157, train_loss: 0.1337\n",
            "74/157, train_loss: 0.1163\n",
            "75/157, train_loss: 0.1127\n",
            "76/157, train_loss: 0.1109\n",
            "77/157, train_loss: 0.1329\n",
            "78/157, train_loss: 0.1735\n",
            "79/157, train_loss: 0.1348\n",
            "80/157, train_loss: 0.1460\n",
            "81/157, train_loss: 0.1579\n",
            "82/157, train_loss: 0.1531\n",
            "83/157, train_loss: 0.1275\n",
            "84/157, train_loss: 0.1212\n",
            "85/157, train_loss: 0.1205\n",
            "86/157, train_loss: 0.1380\n",
            "87/157, train_loss: 0.1233\n",
            "88/157, train_loss: 0.1369\n",
            "89/157, train_loss: 0.1166\n",
            "90/157, train_loss: 0.1455\n",
            "91/157, train_loss: 0.1207\n",
            "92/157, train_loss: 0.1124\n",
            "93/157, train_loss: 0.1107\n",
            "94/157, train_loss: 0.1401\n",
            "95/157, train_loss: 0.1148\n",
            "96/157, train_loss: 0.1149\n",
            "97/157, train_loss: 0.1342\n",
            "98/157, train_loss: 0.1090\n",
            "99/157, train_loss: 0.1100\n",
            "100/157, train_loss: 0.1217\n",
            "101/157, train_loss: 0.1209\n",
            "102/157, train_loss: 0.1091\n",
            "103/157, train_loss: 0.1154\n",
            "104/157, train_loss: 0.0994\n",
            "105/157, train_loss: 0.1309\n",
            "106/157, train_loss: 0.1150\n",
            "107/157, train_loss: 0.0879\n",
            "108/157, train_loss: 0.1041\n",
            "109/157, train_loss: 0.0956\n",
            "110/157, train_loss: 0.0950\n",
            "111/157, train_loss: 0.1106\n",
            "112/157, train_loss: 0.0840\n",
            "113/157, train_loss: 0.1337\n",
            "114/157, train_loss: 0.1012\n",
            "115/157, train_loss: 0.1283\n",
            "116/157, train_loss: 0.0981\n",
            "117/157, train_loss: 0.1199\n",
            "118/157, train_loss: 0.1160\n",
            "119/157, train_loss: 0.1301\n",
            "120/157, train_loss: 0.1041\n",
            "121/157, train_loss: 0.0946\n",
            "122/157, train_loss: 0.0889\n",
            "123/157, train_loss: 0.0959\n",
            "124/157, train_loss: 0.0989\n",
            "125/157, train_loss: 0.0897\n",
            "126/157, train_loss: 0.1055\n",
            "127/157, train_loss: 0.0935\n",
            "128/157, train_loss: 0.1210\n",
            "129/157, train_loss: 0.1099\n",
            "130/157, train_loss: 0.0911\n",
            "131/157, train_loss: 0.0964\n",
            "132/157, train_loss: 0.0937\n",
            "133/157, train_loss: 0.1059\n",
            "134/157, train_loss: 0.0964\n",
            "135/157, train_loss: 0.0957\n",
            "136/157, train_loss: 0.1193\n",
            "137/157, train_loss: 0.0871\n",
            "138/157, train_loss: 0.1086\n",
            "139/157, train_loss: 0.1172\n",
            "140/157, train_loss: 0.1083\n",
            "141/157, train_loss: 0.0988\n",
            "142/157, train_loss: 0.0981\n",
            "143/157, train_loss: 0.1114\n",
            "144/157, train_loss: 0.0894\n",
            "145/157, train_loss: 0.0980\n",
            "146/157, train_loss: 0.0712\n",
            "147/157, train_loss: 0.0731\n",
            "148/157, train_loss: 0.0985\n",
            "149/157, train_loss: 0.0875\n",
            "150/157, train_loss: 0.0968\n",
            "151/157, train_loss: 0.1064\n",
            "152/157, train_loss: 0.0814\n",
            "153/157, train_loss: 0.1487\n",
            "154/157, train_loss: 0.0897\n",
            "155/157, train_loss: 0.1002\n",
            "156/157, train_loss: 0.1110\n",
            "157/157, train_loss: 0.1016\n",
            "158/157, train_loss: 0.1006\n",
            "epoch 2 average loss: 0.1447\n",
            "saved new best metric model\n",
            "current epoch: 2 current AUC: 0.9998 current accuracy: 0.9891 best AUC: 0.9998 at epoch: 2\n",
            "----------\n",
            "epoch 3/4\n",
            "1/157, train_loss: 0.0850\n",
            "2/157, train_loss: 0.1117\n",
            "3/157, train_loss: 0.0668\n",
            "4/157, train_loss: 0.0631\n",
            "5/157, train_loss: 0.0595\n",
            "6/157, train_loss: 0.0904\n",
            "7/157, train_loss: 0.0674\n",
            "8/157, train_loss: 0.0964\n",
            "9/157, train_loss: 0.0650\n",
            "10/157, train_loss: 0.0936\n",
            "11/157, train_loss: 0.0759\n",
            "12/157, train_loss: 0.1059\n",
            "13/157, train_loss: 0.0883\n",
            "14/157, train_loss: 0.0772\n",
            "15/157, train_loss: 0.0980\n",
            "16/157, train_loss: 0.0811\n",
            "17/157, train_loss: 0.0645\n",
            "18/157, train_loss: 0.0667\n",
            "19/157, train_loss: 0.0682\n",
            "20/157, train_loss: 0.0758\n",
            "21/157, train_loss: 0.0749\n",
            "22/157, train_loss: 0.0676\n",
            "23/157, train_loss: 0.0794\n",
            "24/157, train_loss: 0.0820\n",
            "25/157, train_loss: 0.1538\n",
            "26/157, train_loss: 0.1003\n",
            "27/157, train_loss: 0.0825\n",
            "28/157, train_loss: 0.0790\n",
            "29/157, train_loss: 0.0598\n",
            "30/157, train_loss: 0.0788\n",
            "31/157, train_loss: 0.0627\n",
            "32/157, train_loss: 0.0722\n",
            "33/157, train_loss: 0.0987\n",
            "34/157, train_loss: 0.0792\n",
            "35/157, train_loss: 0.0750\n",
            "36/157, train_loss: 0.0833\n",
            "37/157, train_loss: 0.0912\n",
            "38/157, train_loss: 0.0832\n",
            "39/157, train_loss: 0.0675\n",
            "40/157, train_loss: 0.0654\n",
            "41/157, train_loss: 0.0859\n",
            "42/157, train_loss: 0.0742\n",
            "43/157, train_loss: 0.0691\n",
            "44/157, train_loss: 0.0636\n",
            "45/157, train_loss: 0.0803\n",
            "46/157, train_loss: 0.0752\n",
            "47/157, train_loss: 0.0940\n",
            "48/157, train_loss: 0.0909\n",
            "49/157, train_loss: 0.0743\n",
            "50/157, train_loss: 0.0727\n",
            "51/157, train_loss: 0.0640\n",
            "52/157, train_loss: 0.0603\n",
            "53/157, train_loss: 0.0675\n",
            "54/157, train_loss: 0.0685\n",
            "55/157, train_loss: 0.0568\n",
            "56/157, train_loss: 0.1236\n",
            "57/157, train_loss: 0.0645\n",
            "58/157, train_loss: 0.0957\n",
            "59/157, train_loss: 0.0844\n",
            "60/157, train_loss: 0.0650\n",
            "61/157, train_loss: 0.0610\n",
            "62/157, train_loss: 0.0672\n",
            "63/157, train_loss: 0.0618\n",
            "64/157, train_loss: 0.0708\n",
            "65/157, train_loss: 0.0641\n",
            "66/157, train_loss: 0.0564\n",
            "67/157, train_loss: 0.0751\n",
            "68/157, train_loss: 0.0671\n",
            "69/157, train_loss: 0.0530\n",
            "70/157, train_loss: 0.0526\n",
            "71/157, train_loss: 0.0818\n",
            "72/157, train_loss: 0.0607\n",
            "73/157, train_loss: 0.0521\n",
            "74/157, train_loss: 0.0785\n",
            "75/157, train_loss: 0.0615\n",
            "76/157, train_loss: 0.0650\n",
            "77/157, train_loss: 0.0657\n",
            "78/157, train_loss: 0.0516\n",
            "79/157, train_loss: 0.0529\n",
            "80/157, train_loss: 0.0832\n",
            "81/157, train_loss: 0.0652\n",
            "82/157, train_loss: 0.0643\n",
            "83/157, train_loss: 0.0631\n",
            "84/157, train_loss: 0.0783\n",
            "85/157, train_loss: 0.0594\n",
            "86/157, train_loss: 0.0594\n",
            "87/157, train_loss: 0.0533\n",
            "88/157, train_loss: 0.0588\n",
            "89/157, train_loss: 0.0519\n",
            "90/157, train_loss: 0.0714\n",
            "91/157, train_loss: 0.0546\n",
            "92/157, train_loss: 0.0577\n",
            "93/157, train_loss: 0.0480\n",
            "94/157, train_loss: 0.0699\n",
            "95/157, train_loss: 0.0656\n",
            "96/157, train_loss: 0.0712\n",
            "97/157, train_loss: 0.0521\n",
            "98/157, train_loss: 0.0464\n",
            "99/157, train_loss: 0.0565\n",
            "100/157, train_loss: 0.0648\n",
            "101/157, train_loss: 0.0421\n",
            "102/157, train_loss: 0.0685\n",
            "103/157, train_loss: 0.0478\n",
            "104/157, train_loss: 0.0550\n",
            "105/157, train_loss: 0.0561\n",
            "106/157, train_loss: 0.0744\n",
            "107/157, train_loss: 0.0756\n",
            "108/157, train_loss: 0.0598\n",
            "109/157, train_loss: 0.0449\n",
            "110/157, train_loss: 0.0511\n",
            "111/157, train_loss: 0.0558\n",
            "112/157, train_loss: 0.0827\n",
            "113/157, train_loss: 0.0569\n",
            "114/157, train_loss: 0.0583\n",
            "115/157, train_loss: 0.0474\n",
            "116/157, train_loss: 0.0823\n",
            "117/157, train_loss: 0.0687\n",
            "118/157, train_loss: 0.0426\n",
            "119/157, train_loss: 0.0683\n",
            "120/157, train_loss: 0.0656\n",
            "121/157, train_loss: 0.0597\n",
            "122/157, train_loss: 0.0446\n",
            "123/157, train_loss: 0.0501\n",
            "124/157, train_loss: 0.0595\n",
            "125/157, train_loss: 0.0453\n",
            "126/157, train_loss: 0.0587\n",
            "127/157, train_loss: 0.0482\n",
            "128/157, train_loss: 0.0425\n",
            "129/157, train_loss: 0.0531\n",
            "130/157, train_loss: 0.0454\n",
            "131/157, train_loss: 0.0462\n",
            "132/157, train_loss: 0.0515\n",
            "133/157, train_loss: 0.0412\n",
            "134/157, train_loss: 0.0452\n",
            "135/157, train_loss: 0.0485\n",
            "136/157, train_loss: 0.0480\n",
            "137/157, train_loss: 0.0371\n",
            "138/157, train_loss: 0.0427\n",
            "139/157, train_loss: 0.0465\n",
            "140/157, train_loss: 0.0596\n",
            "141/157, train_loss: 0.0549\n",
            "142/157, train_loss: 0.0591\n",
            "143/157, train_loss: 0.0432\n",
            "144/157, train_loss: 0.0404\n",
            "145/157, train_loss: 0.0517\n",
            "146/157, train_loss: 0.0639\n",
            "147/157, train_loss: 0.0429\n",
            "148/157, train_loss: 0.0489\n",
            "149/157, train_loss: 0.0391\n",
            "150/157, train_loss: 0.0597\n",
            "151/157, train_loss: 0.0630\n",
            "152/157, train_loss: 0.0451\n",
            "153/157, train_loss: 0.0460\n",
            "154/157, train_loss: 0.0446\n",
            "155/157, train_loss: 0.0537\n",
            "156/157, train_loss: 0.0355\n",
            "157/157, train_loss: 0.0577\n",
            "158/157, train_loss: 0.0527\n",
            "epoch 3 average loss: 0.0654\n",
            "saved new best metric model\n",
            "current epoch: 3 current AUC: 0.9999 current accuracy: 0.9937 best AUC: 0.9999 at epoch: 3\n",
            "----------\n",
            "epoch 4/4\n",
            "1/157, train_loss: 0.0441\n",
            "2/157, train_loss: 0.0414\n",
            "3/157, train_loss: 0.0513\n",
            "4/157, train_loss: 0.0440\n",
            "5/157, train_loss: 0.0522\n",
            "6/157, train_loss: 0.0377\n",
            "7/157, train_loss: 0.0557\n",
            "8/157, train_loss: 0.0417\n",
            "9/157, train_loss: 0.0379\n",
            "10/157, train_loss: 0.0399\n",
            "11/157, train_loss: 0.0378\n",
            "12/157, train_loss: 0.0313\n",
            "13/157, train_loss: 0.0351\n",
            "14/157, train_loss: 0.0467\n",
            "15/157, train_loss: 0.0479\n",
            "16/157, train_loss: 0.0511\n",
            "17/157, train_loss: 0.0357\n",
            "18/157, train_loss: 0.0511\n",
            "19/157, train_loss: 0.0580\n",
            "20/157, train_loss: 0.0484\n",
            "21/157, train_loss: 0.0405\n",
            "22/157, train_loss: 0.0409\n",
            "23/157, train_loss: 0.0391\n",
            "24/157, train_loss: 0.0317\n",
            "25/157, train_loss: 0.0482\n",
            "26/157, train_loss: 0.0674\n",
            "27/157, train_loss: 0.0421\n",
            "28/157, train_loss: 0.0296\n",
            "29/157, train_loss: 0.0389\n",
            "30/157, train_loss: 0.0290\n",
            "31/157, train_loss: 0.0616\n",
            "32/157, train_loss: 0.0394\n",
            "33/157, train_loss: 0.0692\n",
            "34/157, train_loss: 0.0429\n",
            "35/157, train_loss: 0.0448\n",
            "36/157, train_loss: 0.0402\n",
            "37/157, train_loss: 0.0605\n",
            "38/157, train_loss: 0.0408\n",
            "39/157, train_loss: 0.0368\n",
            "40/157, train_loss: 0.0455\n",
            "41/157, train_loss: 0.0581\n",
            "42/157, train_loss: 0.0343\n",
            "43/157, train_loss: 0.0418\n",
            "44/157, train_loss: 0.0498\n",
            "45/157, train_loss: 0.0402\n",
            "46/157, train_loss: 0.0414\n",
            "47/157, train_loss: 0.0433\n",
            "48/157, train_loss: 0.0303\n",
            "49/157, train_loss: 0.0696\n",
            "50/157, train_loss: 0.0301\n",
            "51/157, train_loss: 0.0348\n",
            "52/157, train_loss: 0.0423\n",
            "53/157, train_loss: 0.0432\n",
            "54/157, train_loss: 0.0632\n",
            "55/157, train_loss: 0.0387\n",
            "56/157, train_loss: 0.0415\n",
            "57/157, train_loss: 0.0563\n",
            "58/157, train_loss: 0.0475\n",
            "59/157, train_loss: 0.0379\n",
            "60/157, train_loss: 0.0487\n",
            "61/157, train_loss: 0.0356\n",
            "62/157, train_loss: 0.0385\n",
            "63/157, train_loss: 0.0448\n",
            "64/157, train_loss: 0.0526\n",
            "65/157, train_loss: 0.0272\n",
            "66/157, train_loss: 0.0280\n",
            "67/157, train_loss: 0.0472\n",
            "68/157, train_loss: 0.0416\n",
            "69/157, train_loss: 0.0473\n",
            "70/157, train_loss: 0.0251\n",
            "71/157, train_loss: 0.0342\n",
            "72/157, train_loss: 0.0368\n",
            "73/157, train_loss: 0.0446\n",
            "74/157, train_loss: 0.0334\n",
            "75/157, train_loss: 0.0388\n",
            "76/157, train_loss: 0.0274\n",
            "77/157, train_loss: 0.0321\n",
            "78/157, train_loss: 0.0489\n",
            "79/157, train_loss: 0.0355\n",
            "80/157, train_loss: 0.0422\n",
            "81/157, train_loss: 0.0428\n",
            "82/157, train_loss: 0.0539\n",
            "83/157, train_loss: 0.0220\n",
            "84/157, train_loss: 0.0663\n",
            "85/157, train_loss: 0.0390\n",
            "86/157, train_loss: 0.0581\n",
            "87/157, train_loss: 0.0416\n",
            "88/157, train_loss: 0.0272\n",
            "89/157, train_loss: 0.0544\n",
            "90/157, train_loss: 0.0627\n",
            "91/157, train_loss: 0.0466\n",
            "92/157, train_loss: 0.0375\n",
            "93/157, train_loss: 0.0461\n",
            "94/157, train_loss: 0.0309\n",
            "95/157, train_loss: 0.0248\n",
            "96/157, train_loss: 0.0252\n",
            "97/157, train_loss: 0.0338\n",
            "98/157, train_loss: 0.0281\n",
            "99/157, train_loss: 0.0258\n",
            "100/157, train_loss: 0.0278\n",
            "101/157, train_loss: 0.0296\n",
            "102/157, train_loss: 0.0331\n",
            "103/157, train_loss: 0.0214\n",
            "104/157, train_loss: 0.0288\n",
            "105/157, train_loss: 0.0282\n",
            "106/157, train_loss: 0.0224\n",
            "107/157, train_loss: 0.0278\n",
            "108/157, train_loss: 0.0232\n",
            "109/157, train_loss: 0.0443\n",
            "110/157, train_loss: 0.0478\n",
            "111/157, train_loss: 0.0287\n",
            "112/157, train_loss: 0.0303\n",
            "113/157, train_loss: 0.0359\n",
            "114/157, train_loss: 0.0342\n",
            "115/157, train_loss: 0.0307\n",
            "116/157, train_loss: 0.0294\n",
            "117/157, train_loss: 0.0396\n",
            "118/157, train_loss: 0.0237\n",
            "119/157, train_loss: 0.0355\n",
            "120/157, train_loss: 0.0379\n",
            "121/157, train_loss: 0.0282\n",
            "122/157, train_loss: 0.0312\n",
            "123/157, train_loss: 0.0496\n",
            "124/157, train_loss: 0.0403\n",
            "125/157, train_loss: 0.0486\n",
            "126/157, train_loss: 0.0284\n",
            "127/157, train_loss: 0.0321\n",
            "128/157, train_loss: 0.0250\n",
            "129/157, train_loss: 0.0328\n",
            "130/157, train_loss: 0.0375\n",
            "131/157, train_loss: 0.0267\n",
            "132/157, train_loss: 0.0298\n",
            "133/157, train_loss: 0.0362\n",
            "134/157, train_loss: 0.0312\n",
            "135/157, train_loss: 0.0269\n",
            "136/157, train_loss: 0.0295\n",
            "137/157, train_loss: 0.0239\n",
            "138/157, train_loss: 0.0320\n",
            "139/157, train_loss: 0.0318\n",
            "140/157, train_loss: 0.0435\n",
            "141/157, train_loss: 0.0244\n",
            "142/157, train_loss: 0.0337\n",
            "143/157, train_loss: 0.0402\n",
            "144/157, train_loss: 0.0215\n",
            "145/157, train_loss: 0.0403\n",
            "146/157, train_loss: 0.0237\n",
            "147/157, train_loss: 0.0491\n",
            "148/157, train_loss: 0.0358\n",
            "149/157, train_loss: 0.0301\n",
            "150/157, train_loss: 0.0278\n",
            "151/157, train_loss: 0.0395\n",
            "152/157, train_loss: 0.0325\n",
            "153/157, train_loss: 0.0245\n",
            "154/157, train_loss: 0.0245\n",
            "155/157, train_loss: 0.0370\n",
            "156/157, train_loss: 0.0237\n",
            "157/157, train_loss: 0.0326\n",
            "158/157, train_loss: 0.0375\n",
            "epoch 4 average loss: 0.0386\n",
            "saved new best metric model\n",
            "current epoch: 4 current AUC: 1.0000 current accuracy: 0.9963 best AUC: 1.0000 at epoch: 4\n",
            "train completed, best_metric: 1.0000 at epoch: 4\n"
          ]
        }
      ],
      "source": [
        "best_metric = -1\n",
        "best_metric_epoch = -1\n",
        "epoch_loss_values = []\n",
        "metric_values = []\n",
        "\n",
        "for epoch in range(max_epochs):\n",
        "    print(\"-\" * 10)\n",
        "    print(f\"epoch {epoch + 1}/{max_epochs}\")\n",
        "    model.train()\n",
        "    epoch_loss = 0\n",
        "    step = 0\n",
        "    for batch_data in train_loader:\n",
        "        step += 1\n",
        "        inputs, labels = batch_data[0].to(device), batch_data[1].to(device)\n",
        "        optimizer.zero_grad()\n",
        "        outputs = model(inputs)\n",
        "        loss = loss_function(outputs, labels)\n",
        "        loss.backward()\n",
        "        optimizer.step()\n",
        "        epoch_loss += loss.item()\n",
        "        print(\n",
        "            f\"{step}/{len(train_ds) // train_loader.batch_size}, \"\n",
        "            f\"train_loss: {loss.item():.4f}\")\n",
        "        epoch_len = len(train_ds) // train_loader.batch_size\n",
        "    epoch_loss /= step\n",
        "    epoch_loss_values.append(epoch_loss)\n",
        "    print(f\"epoch {epoch + 1} average loss: {epoch_loss:.4f}\")\n",
        "\n",
        "    if (epoch + 1) % val_interval == 0:\n",
        "        model.eval()\n",
        "        with torch.no_grad():\n",
        "            y_pred = torch.tensor([], dtype=torch.float32, device=device)\n",
        "            y = torch.tensor([], dtype=torch.long, device=device)\n",
        "            for val_data in val_loader:\n",
        "                val_images, val_labels = (\n",
        "                    val_data[0].to(device),\n",
        "                    val_data[1].to(device),\n",
        "                )\n",
        "                y_pred = torch.cat([y_pred, model(val_images)], dim=0)\n",
        "                y = torch.cat([y, val_labels], dim=0)\n",
        "            y_onehot = [y_trans(i) for i in decollate_batch(y)]\n",
        "            y_pred_act = [y_pred_trans(i) for i in decollate_batch(y_pred)]\n",
        "            auc_metric(y_pred_act, y_onehot)\n",
        "            result = auc_metric.aggregate()\n",
        "            auc_metric.reset()\n",
        "            del y_pred_act, y_onehot\n",
        "            metric_values.append(result)\n",
        "            acc_value = torch.eq(y_pred.argmax(dim=1), y)\n",
        "            acc_metric = acc_value.sum().item() / len(acc_value)\n",
        "            if result > best_metric:\n",
        "                best_metric = result\n",
        "                best_metric_epoch = epoch + 1\n",
        "                torch.save(model.state_dict(), os.path.join(\n",
        "                    root_dir, \"best_metric_model.pth\"))\n",
        "                print(\"saved new best metric model\")\n",
        "            print(\n",
        "                f\"current epoch: {epoch + 1} current AUC: {result:.4f}\"\n",
        "                f\" current accuracy: {acc_metric:.4f}\"\n",
        "                f\" best AUC: {best_metric:.4f}\"\n",
        "                f\" at epoch: {best_metric_epoch}\"\n",
        "            )\n",
        "\n",
        "print(\n",
        "    f\"train completed, best_metric: {best_metric:.4f} \"\n",
        "    f\"at epoch: {best_metric_epoch}\")"
      ]
    },
    {
      "cell_type": "markdown",
      "metadata": {
        "id": "wvja7A1Cn8wp"
      },
      "source": [
        "## Plot the loss and metric"
      ]
    },
    {
      "cell_type": "code",
      "execution_count": 14,
      "metadata": {
        "colab": {
          "base_uri": "https://localhost:8080/",
          "height": 404
        },
        "id": "CXt0rm0Dn8wv",
        "outputId": "951e8b03-327f-459e-9b8a-82b85f0be9c4"
      },
      "outputs": [
        {
          "output_type": "display_data",
          "data": {
            "text/plain": [
              "<Figure size 864x432 with 2 Axes>"
            ],
            "image/png": "[encoded data removed]"
          },
          "metadata": {
            "needs_background": "light"
          }
        }
      ],
      "source": [
        "plt.figure(\"train\", (12, 6))\n",
        "plt.subplot(1, 2, 1)\n",
        "plt.title(\"Epoch Average Loss\")\n",
        "x = [i + 1 for i in range(len(epoch_loss_values))]\n",
        "y = epoch_loss_values\n",
        "plt.xlabel(\"epoch\")\n",
        "plt.plot(x, y)\n",
        "plt.subplot(1, 2, 2)\n",
        "plt.title(\"Val AUC\")\n",
        "x = [val_interval * (i + 1) for i in range(len(metric_values))]\n",
        "y = metric_values\n",
        "plt.xlabel(\"epoch\")\n",
        "plt.plot(x, y)\n",
        "plt.show()"
      ]
    },
    {
      "cell_type": "markdown",
      "metadata": {
        "id": "pKjVWVDvn8ww"
      },
      "source": [
        "## Evaluate the model on test dataset\n",
        "\n",
        "After training and validation, we already got the best model on validation test.  \n",
        "We need to evaluate the model on test dataset to check whether it's robust and not over-fitting.  \n",
        "We'll use these predictions to generate a classification report."
      ]
    },
    {
      "cell_type": "code",
      "execution_count": null,
      "metadata": {
        "id": "_FRncZeDn8ww"
      },
      "outputs": [],
      "source": [
        "model.load_state_dict(torch.load(\n",
        "    os.path.join(root_dir, \"best_metric_model.pth\")))\n",
        "model.eval()\n",
        "y_true = []\n",
        "y_pred = []\n",
        "with torch.no_grad():\n",
        "    for test_data in test_loader:\n",
        "        test_images, test_labels = (\n",
        "            test_data[0].to(device),\n",
        "            test_data[1].to(device),\n",
        "        )\n",
        "        pred = model(test_images).argmax(dim=1)\n",
        "        for i in range(len(pred)):\n",
        "            y_true.append(test_labels[i].item())\n",
        "            y_pred.append(pred[i].item())"
      ]
    },
    {
      "cell_type": "code",
      "execution_count": null,
      "metadata": {
        "tags": [],
        "id": "ZczVqSJqn8wx",
        "outputId": "7392377e-55bf-4e1c-ea3e-924982091588"
      },
      "outputs": [
        {
          "name": "stdout",
          "output_type": "stream",
          "text": [
            "Note: you may need to restart the kernel to use updated packages.\n",
            "              precision    recall  f1-score   support\n",
            "\n",
            "   AbdomenCT     0.9816    0.9917    0.9867       969\n",
            "   BreastMRI     0.9968    0.9831    0.9899       944\n",
            "         CXR     0.9979    0.9928    0.9954       973\n",
            "     ChestCT     0.9938    0.9990    0.9964       959\n",
            "        Hand     0.9934    0.9934    0.9934      1055\n",
            "      HeadCT     0.9960    0.9990    0.9975       985\n",
            "\n",
            "    accuracy                         0.9932      5885\n",
            "   macro avg     0.9932    0.9932    0.9932      5885\n",
            "weighted avg     0.9932    0.9932    0.9932      5885\n",
            "\n"
          ]
        }
      ],
      "source": [
        "print(classification_report(\n",
        "    y_true, y_pred, target_names=class_names, digits=4))"
      ]
    },
    {
      "cell_type": "markdown",
      "metadata": {
        "id": "HtYNG1MQn8wx"
      },
      "source": [
        "## Cleanup data directory\n",
        "\n",
        "Remove directory if a temporary was used."
      ]
    },
    {
      "cell_type": "code",
      "execution_count": null,
      "metadata": {
        "id": "piIeUIQnn8wx"
      },
      "outputs": [],
      "source": [
        "if directory is None:\n",
        "    shutil.rmtree(root_dir)"
      ]
    }
  ],
  "metadata": {
    "kernelspec": {
      "display_name": "Python 3",
      "language": "python",
      "name": "python3"
    },
    "language_info": {
      "codemirror_mode": {
        "name": "ipython",
        "version": 3
      },
      "file_extension": ".py",
      "mimetype": "text/x-python",
      "name": "python",
      "nbconvert_exporter": "python",
      "pygments_lexer": "ipython3",
      "version": "3.7.10"
    },
    "colab": {
      "name": "mednist_tutorial.ipynb",
      "provenance": [],
      "include_colab_link": true
    }
  },
  "nbformat": 4,
  "nbformat_minor": 0
}